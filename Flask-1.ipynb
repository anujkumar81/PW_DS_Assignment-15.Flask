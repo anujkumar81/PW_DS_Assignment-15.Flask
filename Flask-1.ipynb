{
 "cells": [
  {
   "cell_type": "code",
   "execution_count": null,
   "id": "d37d373a-f1b9-471e-a3cf-698b8b2449c5",
   "metadata": {},
   "outputs": [],
   "source": [
    "# question 1:\n",
    "'''What is Flask Framework? What are the advantages of Flask Framework?'''\n",
    "# Answer:\n",
    "'''Flask is a lightweight and versatile Python web framework that enables developers to build web applications quickly and efficiently. It is classified as a micro-framework because it does not require particular tools or libraries.'''\n",
    "\n",
    "# Advantages of Flask Framework:\n",
    "'''1. Simplicity: Flask is straightforward and easy to understand. Its simplicity makes it an excellent choice for beginners and experienced developers alike.\n",
    "2. Flexibility: Flask does not impose any restrictions on the structure or components of the application. Developers have the freedom to choose the libraries and tools they want to work with.\n",
    "3. Modularity: Flask is built around the concept of modular and extensible code. Developers can add or remove components as needed, making it highly modular and adaptable to different requirements.\n",
    "4. Werkzeug and Jinja2: Flask uses Werkzeug, a WSGI utility library, and Jinja2, a template engine, which provide powerful features for routing, request handling, and template rendering.\n",
    "5. Built-in Development Server: Flask comes with a built-in development server, which makes it convenient for developers to test and debug their applications during the development process.\n",
    "6. Large Community: Flask has a large and active community of developers. This means there are plenty of resources, tutorials, and extensions available to help developers solve problems and enhance their applications.\n",
    "7. Scalability: While Flask is excellent for small to medium-sized applications, it can also be used for larger applications when combined with other technologies and tools.\n",
    "8. RESTful request dispatching: Flask supports RESTful request dispatching, making it easy to implement REST APIs for web services.\n",
    "9. Extensive Documentation: Flask has extensive and well-written documentation, making it easier for developers to learn and understand how to use the framework effectively.\n",
    "10. Open Source: Flask is open source, meaning it is free to use, and developers can modify the source code according to their requirements.''"
   ]
  },
  {
   "cell_type": "code",
   "execution_count": null,
   "id": "d06ce09d-a4b4-44bb-8afe-131d99e1b495",
   "metadata": {},
   "outputs": [],
   "source": []
  },
  {
   "cell_type": "code",
   "execution_count": null,
   "id": "57fc1827-168d-45bf-af97-4784f02de113",
   "metadata": {},
   "outputs": [],
   "source": [
    "# Question 2:\n",
    "'''Create a simple Flask application to display ‘Hello World!!’. Attach the screenshot of the output in Jupyter Notebook.'''\n",
    "# Answer\n",
    "# Program\n",
    "\n",
    "from flask import Flask\n",
    "\n",
    "app = Flask(_name_)\n",
    "\n",
    "@app.route(\"/\")\n",
    "def hello_world():\n",
    "    return \"<h1>Hello, World!</h1>\"\n",
    "\n",
    "if _name==\"__main_\":\n",
    "    app.run(host=\"0.0.0.0\")"
   ]
  },
  {
   "cell_type": "code",
   "execution_count": null,
   "id": "b7dc15ec-8905-4cd6-8bd6-9c960891cd3f",
   "metadata": {},
   "outputs": [],
   "source": []
  },
  {
   "cell_type": "markdown",
   "id": "0ee60a7e-454e-4ae6-bc08-c129357cbf34",
   "metadata": {},
   "source": [
    "# Inserting Output Screenshort\n",
    "![](Screenshort.jpg)"
   ]
  },
  {
   "cell_type": "code",
   "execution_count": null,
   "id": "8bfccddc-fead-4ee0-b201-baa8cbba0cad",
   "metadata": {},
   "outputs": [],
   "source": []
  },
  {
   "cell_type": "code",
   "execution_count": null,
   "id": "4da9ab6b-dd87-48e4-92cb-db665dc5f0f7",
   "metadata": {},
   "outputs": [],
   "source": [
    "# Question 3:\n",
    "'''What is App routing in Flask? Why do we use app routes?'''\n",
    "# Answer:\n",
    "'''In Flask, routing refers to the process of mapping URLs to specific functions in your application. When you enter a URL into your web browser, Flask uses the route to determine which Python function should handle the request.'''\n",
    "\n",
    "# Why do we use app routes?\n",
    "'''1. URL Mapping: App routes allow you to map specific URLs to corresponding Python functions. This makes it easy to organize your code and handle different parts of your website or web application.\n",
    "2. Separation of Concerns: By using routes, you can separate different functionalities of your application into distinct functions. For example, you can have one function to handle user authentication, another for processing form submissions, and so on. This separation of concerns makes your codebase cleaner and more maintainable.\n",
    "3. Dynamic Content: Routes can include dynamic elements, such as variable parts, allowing you to capture values from the URL. For instance, a route like /user/<username> can capture the username from the URL and use it within your function. This dynamic nature enables building powerful and flexible web applications.\n",
    "4. RESTful APIs: For building RESTful APIs, routes are essential. Each route can represent a different API endpoint, and the HTTP methods (GET, POST, PUT, DELETE, etc.) can be used to perform different actions on resources.\n",
    "5. User Experience: Properly structured routes enhance the user experience by providing intuitive and user-friendly URLs. For example, a blog application might have routes like /blog/post-title instead of complex query strings, making the URLs more readable and memorable.'''\n"
   ]
  },
  {
   "cell_type": "code",
   "execution_count": null,
   "id": "489ccadc-2cfd-4235-be20-6250a3ee6b66",
   "metadata": {},
   "outputs": [],
   "source": []
  },
  {
   "cell_type": "code",
   "execution_count": null,
   "id": "da3f4c4c-250d-49e8-9dae-0d46f4f76c0e",
   "metadata": {},
   "outputs": [],
   "source": [
    "# Question 4:\n",
    "'''Q4. Create a “/welcome” route to display the welcome message “Welcome to ABC Corporation” and a “/”\n",
    "route to show the following details:\n",
    "Company Name: ABC Corporation\n",
    "Location: India\n",
    "Contact Detail: 999-999-9999'''\n",
    "\n",
    "# answer:\n",
    "from flask import Flask\n",
    "\n",
    "app = Flask(_name_)\n",
    "\n",
    "@app.route('/welcome')\n",
    "def welcome():\n",
    "    return 'Welcome to ABC Corporation'\n",
    "\n",
    "@app.route('/')\n",
    "def home():\n",
    "    return '''Company Name: ABC Corporation\n",
    "Location: India\n",
    "Contact Detail: 999-999-9999'''\n",
    "\n",
    "if _name_ == '_main_':\n",
    "    app.run()\n",
    "    "
   ]
  },
  {
   "cell_type": "markdown",
   "id": "830d3414-8eb4-42ed-89a2-113aca53e58d",
   "metadata": {},
   "source": [
    "# Inserting Output Image \n",
    "![](Screenshort.jpg)"
   ]
  },
  {
   "cell_type": "code",
   "execution_count": null,
   "id": "a889c9f4-10bb-4bba-89ed-1c8fd92bbb5c",
   "metadata": {},
   "outputs": [],
   "source": []
  },
  {
   "cell_type": "code",
   "execution_count": null,
   "id": "31659e21-f11d-41b4-ba10-fd791ec82197",
   "metadata": {},
   "outputs": [],
   "source": [
    "# Question 5:\n",
    "'''Q5. What function is used in Flask for URL Building? Write a Python code to demonstrate the working of the url_for() function.'''\n",
    "# Answer:\n",
    "'''In Flask, the url_for() function is used for URL building. It generates a URL for the specified endpoint. It accepts the name of the endpoint as its first argument and any number of keyword arguments, each corresponding to a variable part of the URL rule. Flask will then substitute these variable parts with the values provided in the keyword arguments.'''\n",
    "# Example;\n",
    "from flask import Flask, url_for\n",
    "\n",
    "app = Flask(__name__)\n",
    "\n",
    "@app.route('/')\n",
    "def home():\n",
    "   \n",
    "    welcome_url = url_for('greet', name='John')\n",
    "    return f'Welcome to the home page! Click <a href=\"{welcome_url}\">here</a> to greet someone.'\n",
    "\n",
    "@app.route('/greet/<name>')\n",
    "def greet(name):\n",
    "    return f'Hello, {name}!'\n",
    "\n",
    "if __name__ == '__main__':\n",
    "    app.run()\n"
   ]
  },
  {
   "cell_type": "code",
   "execution_count": null,
   "id": "a8b17d2c-90cc-4fa6-aed7-8fc9b9fe2470",
   "metadata": {},
   "outputs": [],
   "source": []
  }
 ],
 "metadata": {
  "kernelspec": {
   "display_name": "Python 3 (ipykernel)",
   "language": "python",
   "name": "python3"
  },
  "language_info": {
   "codemirror_mode": {
    "name": "ipython",
    "version": 3
   },
   "file_extension": ".py",
   "mimetype": "text/x-python",
   "name": "python",
   "nbconvert_exporter": "python",
   "pygments_lexer": "ipython3",
   "version": "3.10.8"
  }
 },
 "nbformat": 4,
 "nbformat_minor": 5
}
