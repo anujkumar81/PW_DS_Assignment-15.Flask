{
 "cells": [
  {
   "cell_type": "code",
   "execution_count": null,
   "id": "4ee3a6a3-b93b-42ba-b4df-1857f6b43ac8",
   "metadata": {},
   "outputs": [],
   "source": [
    "# Question 1:\n",
    "''' Explain GET and POST methods.'''\n",
    "#Answer:\n",
    "# GET Method:\n",
    "'''Purpose: The GET method is used to request data from a specified resource.\n",
    "Data Transmission: Data is appended to the URL in the form of parameters. This means that the data is visible in the URL and can be bookmarked or cached.\n",
    "Security: Not suitable for sensitive data because data is visible in the URL.\n",
    "Data Length: Limited by the maximum length a URL can handle, typically around 2048 characters.\n",
    "Idempotent: Yes, making the same GET request multiple times will produce the same result.\n",
    "Caching: Can be cached by browsers.'''\n",
    "# Example:\n",
    "http://example.com/resource?name=value&param2=value2\n",
    "\n",
    "# POST Method:\n",
    "'''Purpose: The POST method is used to submit data to be processed to a specified resource.\n",
    "Data Transmission: Data is sent in the body of the HTTP request, not visible in the URL.\n",
    "Security: More secure for sensitive data as it is not visible in the URL.\n",
    "Data Length: Not limited by the length of the URL, so it can handle large amounts of data.\n",
    "Idempotent: Not necessarily. Making the same POST request multiple times may have different effects, especially if the server state changes with each request.\n",
    "Caching: Generally not cached by browsers (although response might be cacheable under certain conditions).'''\n",
    "# example:\n",
    "POST /resource HTTP/1.1\n",
    "Host: example.com\n",
    "Content-Type: application/x-www-form-urlencoded\n",
    "name=value&param2=value2\n"
   ]
  },
  {
   "cell_type": "code",
   "execution_count": null,
   "id": "ba1a5c8a-6bbf-4c7a-a437-fe2051f9682d",
   "metadata": {},
   "outputs": [],
   "source": []
  },
  {
   "cell_type": "code",
   "execution_count": null,
   "id": "56d275e9-41f9-4228-9868-17b5989a9b17",
   "metadata": {},
   "outputs": [],
   "source": [
    "# question 2:\n",
    "'''Why is request used in Flask?'''\n",
    "# Answer:\n",
    "\n",
    "'''The request object in Flask is used to access the incoming request data from a user's browser. This data can be in the form of query strings, form data, JSON objects, or uploaded files.\n",
    "\n",
    "The request object is available in all view functions, and it can be used to get information about the request, such as:\n",
    "\n",
    "The HTTP method (GET, POST, PUT, DELETE, etc.)\n",
    "The request URL\n",
    "The request headers\n",
    "The request body\n",
    "The request cookies\n",
    "The uploaded files\n",
    "The request object is essential for developing web applications with Flask. It allows you to access and process the data that users send to your application, and to generate responses accordingly.'''\n"
   ]
  },
  {
   "cell_type": "code",
   "execution_count": null,
   "id": "536ff319-caed-4c24-8d8c-10e4b63b31d6",
   "metadata": {},
   "outputs": [],
   "source": []
  },
  {
   "cell_type": "code",
   "execution_count": null,
   "id": "14bbd7de-4b06-473c-a9c6-69e091994161",
   "metadata": {},
   "outputs": [],
   "source": [
    "# question 3:\n",
    "'''Why is redirect() used in Flask?'''\n",
    "# Answer:\n",
    "'''The redirect() function in Flask is used to redirect a user to a different URL. This can be useful for a variety of reasons, such as:\n",
    "\n",
    "To redirect a user to a different page after they have successfully logged in or created an account.\n",
    "To redirect a user to a different page if they are trying to access a page that they do not have permission to access.\n",
    "To redirect a user to a different page if they are trying to access a page that no longer exists.\n",
    "To redirect a user to a different page if the page they are trying to access is under maintenance.'''\n",
    "\n",
    "#The redirect() function takes two arguments:\n",
    "'''The URL to redirect the user to.\n",
    "The status code to send with the redirect. The default status code is 302, which is a temporary redirect.'''\n"
   ]
  },
  {
   "cell_type": "code",
   "execution_count": null,
   "id": "75e3d6d5-0df9-41e6-b627-0930a8259ab0",
   "metadata": {},
   "outputs": [],
   "source": []
  },
  {
   "cell_type": "code",
   "execution_count": null,
   "id": "9fd7c37e-b1cc-463a-a4d7-e05af3c95a53",
   "metadata": {},
   "outputs": [],
   "source": [
    "# question 4:\n",
    "'''What are templates in Flask? Why is the render_template() function used?'''\n",
    "# Answer;\n",
    "'''Templates in Flask are HTML files that contain placeholders for dynamic data. The render_template() function is used to generate HTML output from a template file, by substituting the placeholders with the corresponding data.\n",
    "\n",
    "Templates are useful for separating the presentation layer of your application from the logic layer. This makes your code more reusable and maintainable.'''\n",
    "\n",
    "#The render_template() function takes two arguments:\n",
    "'''The name of the template file.\n",
    "A dictionary of variables to be passed to the template.'''"
   ]
  },
  {
   "cell_type": "code",
   "execution_count": null,
   "id": "d01b5cda-fb16-428b-87d8-a250b08a9e55",
   "metadata": {},
   "outputs": [],
   "source": []
  },
  {
   "cell_type": "code",
   "execution_count": null,
   "id": "bc58c865-de2d-40dc-bab5-566085e60b38",
   "metadata": {},
   "outputs": [],
   "source": [
    "# question 5:\n",
    "'''Create a simple API. Use Postman to test it. Attach the screenshot of the output in the Jupyter Notebook.'''\n",
    "# Answer:\n",
    "\n",
    "# pip install Flask\n",
    "from flask import Flask, jsonify\n",
    "\n",
    "app = Flask(__name__)\n",
    "\n",
    "@app.route('/api', methods=['GET'])\n",
    "def api():\n",
    "    data = {\n",
    "        'message': 'Hello, this is a simple API!'\n",
    "    }\n",
    "    return jsonify(data)\n",
    "\n",
    "if __name__ == '__main__':\n",
    "    app.run(debug=True)\n"
   ]
  },
  {
   "cell_type": "markdown",
   "id": "67eadab9-168e-43b1-a92b-503304ee4a10",
   "metadata": {},
   "source": [
    "# INSERTING THE OUTPUT SCREENSHORT\n",
    "![](Screenshot.png)"
   ]
  },
  {
   "cell_type": "code",
   "execution_count": null,
   "id": "9e09a297-e50a-4e38-a4cc-9384424a3184",
   "metadata": {},
   "outputs": [],
   "source": []
  }
 ],
 "metadata": {
  "kernelspec": {
   "display_name": "Python 3 (ipykernel)",
   "language": "python",
   "name": "python3"
  },
  "language_info": {
   "codemirror_mode": {
    "name": "ipython",
    "version": 3
   },
   "file_extension": ".py",
   "mimetype": "text/x-python",
   "name": "python",
   "nbconvert_exporter": "python",
   "pygments_lexer": "ipython3",
   "version": "3.10.8"
  }
 },
 "nbformat": 4,
 "nbformat_minor": 5
}
